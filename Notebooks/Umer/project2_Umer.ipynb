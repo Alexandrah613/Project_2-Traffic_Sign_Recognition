{
 "cells": [
  {
   "cell_type": "code",
   "execution_count": 14,
   "id": "entertaining-phrase",
   "metadata": {},
   "outputs": [],
   "source": [
    "#Import Pacakges\n",
    "import numpy as np \n",
    "import pandas as pd \n",
    "import matplotlib.pyplot as plt\n",
    "import cv2\n",
    "import tensorflow as tf\n",
    "from PIL import Image\n",
    "import os\n",
    "from sklearn.model_selection import train_test_split\n",
    "from tensorflow.keras.utils import to_categorical\n",
    "from keras.models import Sequential, load_model\n",
    "from keras.layers import Conv2D, MaxPool2D, Dense, Flatten, Dropout\n",
    "\n",
    "data = []\n",
    "labels = []\n",
    "classes = 43\n",
    "cur_path = os.getcwd()"
   ]
  },
  {
   "cell_type": "code",
   "execution_count": 15,
   "id": "international-shannon",
   "metadata": {},
   "outputs": [],
   "source": [
    "#Retrieving the images and their labels \n",
    "#We iterate over all the classes and append images and their respective labels in the data and labels list. The PIL library is used to open image content into an array \n",
    "#To enhance the performance of the predictive model.\n",
    "\n",
    "for i in range(classes):\n",
    "    path = os.path.join(cur_path,'train',str(i))\n",
    "    images = os.listdir(path)\n",
    "\n",
    "    for a in images:\n",
    "        try:\n",
    "            image = Image.open(path + '\\\\'+ a)\n",
    "            image = image.resize((30,30))\n",
    "            image = np.array(image)\n",
    "            #sim = Image.fromarray(image)\n",
    "            data.append(image)\n",
    "            labels.append(i)\n",
    "        except:\n",
    "            print(\"Error loading image\")"
   ]
  },
  {
   "cell_type": "code",
   "execution_count": 16,
   "id": "spoken-bullet",
   "metadata": {},
   "outputs": [
    {
     "name": "stdout",
     "output_type": "stream",
     "text": [
      "(39209, 30, 30, 3) (39209,)\n"
     ]
    }
   ],
   "source": [
    "#Converting lists into numpy arrays. We need to convert the list into numpy arrays for feeding to the model.\n",
    "#The shape of data is (39209, 30, 30, 3) which means that there are 39,209 images of size 30×30 pixels and the last 3 means the data contains colored images (RGB value).\n",
    "data = np.array(data)\n",
    "labels = np.array(labels)\n",
    "print(data.shape, labels.shape)"
   ]
  },
  {
   "cell_type": "code",
   "execution_count": 4,
   "id": "modified-cloud",
   "metadata": {},
   "outputs": [],
   "source": [
    "#Splitting training and testing dataset\n",
    "X_train, X_test, y_train, y_test = train_test_split(data, labels, test_size=0.2, random_state=42)"
   ]
  },
  {
   "cell_type": "code",
   "execution_count": 5,
   "id": "center-christopher",
   "metadata": {},
   "outputs": [
    {
     "name": "stdout",
     "output_type": "stream",
     "text": [
      "(31367, 30, 30, 3) (7842, 30, 30, 3) (31367,) (7842,)\n"
     ]
    }
   ],
   "source": [
    "print(X_train.shape, X_test.shape, y_train.shape, y_test.shape)"
   ]
  },
  {
   "cell_type": "code",
   "execution_count": 6,
   "id": "absent-startup",
   "metadata": {},
   "outputs": [],
   "source": [
    "#Converting the labels into one hot encoding\n",
    "#Many machine learning algorithms cannot operate on label data directly. They require all input variables and output variables to be numeric.\n",
    "#categorical data must be converted to a numerical form.\n",
    "#one-hot encoding can be applied to the integer representation. This is where the integer encoded variable is removed and a new binary variable is added for each unique integer value.\n",
    "y_train = to_categorical(y_train, 43)\n",
    "y_test = to_categorical(y_test, 43)"
   ]
  },
  {
   "cell_type": "code",
   "execution_count": 7,
   "id": "noted-accreditation",
   "metadata": {},
   "outputs": [],
   "source": [
    "#Building the model using tensorflow. we will build a CNN model (Convolutional Neural Network). CNN is best for image classification purposes.\n",
    "#We compile the model with Adam optimizer which performs well and loss is “categorical_crossentropy” because we have multiple classes to categorize.\n",
    "#Flatten layer to squeeze the layers into 1 dimension\n",
    "model = Sequential()\n",
    "model.add(Conv2D(filters=32, kernel_size=(5,5), activation='relu', input_shape=X_train.shape[1:]))\n",
    "model.add(Conv2D(filters=32, kernel_size=(5,5), activation='relu'))\n",
    "model.add(MaxPool2D(pool_size=(2, 2)))\n",
    "model.add(Dropout(rate=0.25))\n",
    "model.add(Conv2D(filters=64, kernel_size=(3, 3), activation='relu'))\n",
    "model.add(Conv2D(filters=64, kernel_size=(3, 3), activation='relu'))\n",
    "model.add(MaxPool2D(pool_size=(2, 2)))\n",
    "model.add(Dropout(rate=0.25))\n",
    "model.add(Flatten())\n",
    "model.add(Dense(256, activation='relu'))\n",
    "model.add(Dropout(rate=0.5))\n",
    "model.add(Dense(43, activation='softmax'))"
   ]
  },
  {
   "cell_type": "code",
   "execution_count": 8,
   "id": "static-statement",
   "metadata": {},
   "outputs": [],
   "source": [
    "#Compilation of the model\n",
    "model.compile(loss='categorical_crossentropy', optimizer='adam', metrics=['accuracy'])"
   ]
  },
  {
   "cell_type": "code",
   "execution_count": 9,
   "id": "sealed-desperate",
   "metadata": {},
   "outputs": [
    {
     "name": "stdout",
     "output_type": "stream",
     "text": [
      "Epoch 1/15\n",
      "981/981 [==============================] - 70s 57ms/step - loss: 3.5224 - accuracy: 0.2487 - val_loss: 0.7614 - val_accuracy: 0.7586\n",
      "Epoch 2/15\n",
      "981/981 [==============================] - 72s 74ms/step - loss: 1.0084 - accuracy: 0.6959 - val_loss: 0.4024 - val_accuracy: 0.8771\n",
      "Epoch 3/15\n",
      "981/981 [==============================] - 57s 58ms/step - loss: 0.6585 - accuracy: 0.8007 - val_loss: 0.1968 - val_accuracy: 0.9411\n",
      "Epoch 4/15\n",
      "981/981 [==============================] - 57s 58ms/step - loss: 0.4122 - accuracy: 0.8763 - val_loss: 0.1803 - val_accuracy: 0.9457\n",
      "Epoch 5/15\n",
      "981/981 [==============================] - 57s 58ms/step - loss: 0.3368 - accuracy: 0.9023 - val_loss: 0.0913 - val_accuracy: 0.9745\n",
      "Epoch 6/15\n",
      "981/981 [==============================] - 58s 59ms/step - loss: 0.2978 - accuracy: 0.9145 - val_loss: 0.1074 - val_accuracy: 0.9703\n",
      "Epoch 7/15\n",
      "981/981 [==============================] - 59s 60ms/step - loss: 0.2831 - accuracy: 0.9189 - val_loss: 0.0849 - val_accuracy: 0.9750\n",
      "Epoch 8/15\n",
      "981/981 [==============================] - 59s 60ms/step - loss: 0.2587 - accuracy: 0.9268 - val_loss: 0.0664 - val_accuracy: 0.9811\n",
      "Epoch 9/15\n",
      "981/981 [==============================] - 59s 60ms/step - loss: 0.2152 - accuracy: 0.9380 - val_loss: 0.0931 - val_accuracy: 0.9760\n",
      "Epoch 10/15\n",
      "981/981 [==============================] - 60s 61ms/step - loss: 0.2431 - accuracy: 0.9346 - val_loss: 0.1072 - val_accuracy: 0.9697\n",
      "Epoch 11/15\n",
      "981/981 [==============================] - 72s 73ms/step - loss: 0.2581 - accuracy: 0.9339 - val_loss: 0.0943 - val_accuracy: 0.9726\n",
      "Epoch 12/15\n",
      "981/981 [==============================] - 59s 60ms/step - loss: 0.2198 - accuracy: 0.9411 - val_loss: 0.0693 - val_accuracy: 0.9829\n",
      "Epoch 13/15\n",
      "981/981 [==============================] - 59s 60ms/step - loss: 0.1934 - accuracy: 0.9473 - val_loss: 0.0634 - val_accuracy: 0.9820\n",
      "Epoch 14/15\n",
      "981/981 [==============================] - 59s 60ms/step - loss: 0.2278 - accuracy: 0.9383 - val_loss: 0.0948 - val_accuracy: 0.9727\n",
      "Epoch 15/15\n",
      "981/981 [==============================] - 58s 59ms/step - loss: 0.2418 - accuracy: 0.9372 - val_loss: 0.0576 - val_accuracy: 0.9852\n"
     ]
    }
   ],
   "source": [
    "epochs = 15\n",
    "history = model.fit(X_train, y_train, batch_size=32, epochs=epochs, validation_data=(X_test, y_test))\n",
    "model.save(\"my_model.h5\")\n"
   ]
  },
  {
   "cell_type": "code",
   "execution_count": 10,
   "id": "authentic-death",
   "metadata": {},
   "outputs": [
    {
     "data": {
      "image/png": "[encoded data removed]",
      "text/plain": [
       "<Figure size 432x288 with 1 Axes>"
      ]
     },
     "metadata": {
      "needs_background": "light"
     },
     "output_type": "display_data"
    },
    {
     "data": {
      "image/png": "[encoded data removed]",
      "text/plain": [
       "<Figure size 432x288 with 1 Axes>"
      ]
     },
     "metadata": {
      "needs_background": "light"
     },
     "output_type": "display_data"
    }
   ],
   "source": [
    "#plotting graphs for accuracy \n",
    "plt.figure(0)\n",
    "plt.plot(history.history['accuracy'], label='training accuracy')\n",
    "plt.plot(history.history['val_accuracy'], label='val accuracy')\n",
    "plt.title('Accuracy')\n",
    "plt.xlabel('epochs')\n",
    "plt.ylabel('accuracy')\n",
    "plt.legend()\n",
    "plt.show()\n",
    "\n",
    "plt.figure(1)\n",
    "plt.plot(history.history['loss'], label='training loss')\n",
    "plt.plot(history.history['val_loss'], label='val loss')\n",
    "plt.title('Loss')\n",
    "plt.xlabel('epochs')\n",
    "plt.ylabel('loss')\n",
    "plt.legend()\n",
    "plt.show()\n",
    "\n",
    "#The model built is learning and working fine given that the accuracy and the validation accuracy increased\n",
    "#significantly as they moved to the next epoch, and the loss and validation loss decreased."
   ]
  },
  {
   "cell_type": "code",
   "execution_count": 11,
   "id": "controlled-ratio",
   "metadata": {},
   "outputs": [
    {
     "name": "stderr",
     "output_type": "stream",
     "text": [
      "C:\\Users\\UFK96\\anaconda3\\lib\\site-packages\\keras\\engine\\sequential.py:450: UserWarning: `model.predict_classes()` is deprecated and will be removed after 2021-01-01. Please use instead:* `np.argmax(model.predict(x), axis=-1)`,   if your model does multi-class classification   (e.g. if it uses a `softmax` last-layer activation).* `(model.predict(x) > 0.5).astype(\"int32\")`,   if your model does binary classification   (e.g. if it uses a `sigmoid` last-layer activation).\n",
      "  warnings.warn('`model.predict_classes()` is deprecated and '\n"
     ]
    }
   ],
   "source": [
    "#testing accuracy on test dataset\n",
    "from sklearn.metrics import accuracy_score\n",
    "y_test = pd.read_csv('Test.csv')\n",
    "\n",
    "labels = y_test[\"ClassId\"].values\n",
    "imgs = y_test[\"Path\"].values\n",
    "\n",
    "data=[]\n",
    "\n",
    "for img in imgs:\n",
    "    image = Image.open(img)\n",
    "    image = image.resize((30,30))\n",
    "    data.append(np.array(image))\n",
    "\n",
    "X_test=np.array(data)\n",
    "\n",
    "pred = model.predict_classes(X_test)\n"
   ]
  },
  {
   "cell_type": "code",
   "execution_count": 12,
   "id": "played-period",
   "metadata": {},
   "outputs": [
    {
     "name": "stdout",
     "output_type": "stream",
     "text": [
      "0.953840063341251\n"
     ]
    }
   ],
   "source": [
    "#Accuracy with the test data\n",
    "from sklearn.metrics import accuracy_score\n",
    "print(accuracy_score(labels, pred))\n",
    "\n",
    "#Our dataset contains a test folder and in a test.csv file, we have the details related to the image path and their respective class labels.\n",
    "#We extract the image path and labels using pandas. Then to predict the model, we have to resize our images to 30×30 pixels and make a numpy array containing all image data.\n",
    "#From the sklearn.metrics, we imported the accuracy_score and observed how our model predicted the actual labels. We achieved a 95% accuracy in this model."
   ]
  },
  {
   "cell_type": "code",
   "execution_count": null,
   "id": "thousand-square",
   "metadata": {},
   "outputs": [],
   "source": []
  }
 ],
 "metadata": {
  "kernelspec": {
   "display_name": "Python 3",
   "language": "python",
   "name": "python3"
  },
  "language_info": {
   "codemirror_mode": {
    "name": "ipython",
    "version": 3
   },
   "file_extension": ".py",
   "mimetype": "text/x-python",
   "name": "python",
   "nbconvert_exporter": "python",
   "pygments_lexer": "ipython3",
   "version": "3.8.5"
  }
 },
 "nbformat": 4,
 "nbformat_minor": 5
}
